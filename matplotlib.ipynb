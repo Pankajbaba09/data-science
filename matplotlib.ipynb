{
 "cells": [
  {
   "cell_type": "code",
   "execution_count": null,
   "metadata": {},
   "outputs": [],
   "source": [
    "# Matplotlib is a python library usedn for data visulation \n",
    "# you can create bar,plots, scatter-plots,histogram and a lot more with matplotlib\n"
   ]
  },
  {
   "cell_type": "code",
   "execution_count": null,
   "metadata": {},
   "outputs": [],
   "source": [
    "import numpy as np\n",
    "from matplotlib import pyplot as plt\n",
    " "
   ]
  },
  {
   "cell_type": "code",
   "execution_count": null,
   "metadata": {},
   "outputs": [],
   "source": [
    "# we will learn about line plot\n",
    "x=np.arange(1,11)\n",
    "x\n"
   ]
  },
  {
   "cell_type": "code",
   "execution_count": null,
   "metadata": {},
   "outputs": [],
   "source": [
    "y=x*2\n",
    "y"
   ]
  },
  {
   "cell_type": "code",
   "execution_count": null,
   "metadata": {},
   "outputs": [],
   "source": [
    "plt.plot(x,y)   # The plot() function is used to draw points (markers) in a diagram. \n",
    "plt.show()      # By default, the plot() function draws a line from point to point.\n",
    "\n",
    "# show is use to show the diagram"
   ]
  },
  {
   "cell_type": "code",
   "execution_count": null,
   "metadata": {},
   "outputs": [],
   "source": [
    "# for adding  more information about graph like adding title and labels\n",
    "plt.plot(x,y)\n",
    "plt.title('Line Plot')\n",
    "plt.xlabel('x-label')\n",
    "plt.ylabel('y-label')\n",
    "plt.show()"
   ]
  },
  {
   "cell_type": "code",
   "execution_count": null,
   "metadata": {},
   "outputs": [],
   "source": [
    "# there are more three attributes present in plot functions like 'color','linestyles','linewidth'\n",
    "# we can change line in dotted style.and there are some only format available like\n",
    "#  supported values are '-', '--', '-.', ':', 'None', ' ', '', 'solid', 'dashed', 'dashdot', 'dotted'\n",
    "\n",
    "\n",
    "plt.plot(x,y,color=\"r\",linestyle='dotted', linewidth=10)\n",
    "plt.show()"
   ]
  },
  {
   "cell_type": "code",
   "execution_count": null,
   "metadata": {},
   "outputs": [],
   "source": [
    "x=np.arange(1,11)\n",
    "y1=2*x\n",
    "y2=3*x\n"
   ]
  },
  {
   "cell_type": "code",
   "execution_count": null,
   "metadata": {},
   "outputs": [],
   "source": [
    "# for plotting two line in same plot\n",
    "plt.plot(x,y1,color='g',linestyle=':',linewidth=2)\n",
    "plt.plot(x,y2,color='r',linestyle='-.',linewidth=3)\n",
    "plt.title('LINE PLOT')\n",
    "plt.xlabel('This is x-axis')\n",
    "plt.ylabel('This is y-axix')\n",
    "plt.grid(True)  # grid is use for show grid in graph diagram\n",
    "plt.show()"
   ]
  },
  {
   "cell_type": "code",
   "execution_count": null,
   "metadata": {},
   "outputs": [],
   "source": []
  },
  {
   "cell_type": "code",
   "execution_count": null,
   "metadata": {},
   "outputs": [],
   "source": [
    "# Adding two sub- plots in same diagram or same figure\n",
    "plt.subplot(2,1,1)\n",
    "plt.plot(x,y1,color='g',linestyle=':',linewidth=2)\n",
    "\n",
    "plt.subplot(2,1,2)\n",
    "plt.plot(x,y2,color='r',linestyle='-.',linewidth=3)\n",
    "plt.title('TWO LINE IN A PLOT')  # tile and level added in second graph because it is added only in second subplot\n",
    "plt.xlabel('This is x-axis')\n",
    "plt.ylabel('This is y-axix')\n",
    "plt.grid()\n",
    "plt.show()"
   ]
  },
  {
   "cell_type": "code",
   "execution_count": null,
   "metadata": {},
   "outputs": [],
   "source": []
  },
  {
   "cell_type": "code",
   "execution_count": null,
   "metadata": {},
   "outputs": [],
   "source": [
    "# From here we will learn about bar plot\n",
    "\n",
    "#A bar plot or bar chart is a graph that represents the category of data with rectangular bars with lengths \n",
    "# and heights that is proportional to the values which they represent.\n",
    "\n",
    "#plt.bar(x, height, width, bottom, align) are its syntax and attributes.we use bar function to plot bar\n"
   ]
  },
  {
   "cell_type": "code",
   "execution_count": null,
   "metadata": {},
   "outputs": [],
   "source": [
    "student={'Bob':97,'Matt':56,'sam':27}\n",
    "names=list(student.keys())\n",
    "values=list(student.values())\n",
    "plt.bar(names,values,width=0.3)\n",
    "plt.show()"
   ]
  },
  {
   "cell_type": "code",
   "execution_count": null,
   "metadata": {},
   "outputs": [
    {
     "ename": "",
     "evalue": "",
     "output_type": "error",
     "traceback": [
      "\u001b[1;31mFailed to start the Kernel. \n",
      "\u001b[1;31mThe Jupyter notebook server failed to launch in time. \n",
      "\u001b[1;31mView Jupyter <a href='command:jupyter.viewOutput'>log</a> for further details."
     ]
    }
   ],
   "source": [
    "# for adding title ,grid and labels ,we use same method as line plot\n",
    "\n",
    "plt.bar(names,values,width=0.3)\n",
    "plt.title(\"EXAM'S GRADE\")\n",
    "plt.xlabel('Names')\n",
    "plt.ylabel(\"Marks\")\n",
    "plt.grid(True)\n",
    "plt.show()"
   ]
  },
  {
   "cell_type": "code",
   "execution_count": null,
   "metadata": {},
   "outputs": [],
   "source": [
    "# use barh( ) for horizontal barchart\n",
    "plt.barh(names,values,color='r')"
   ]
  },
  {
   "cell_type": "code",
   "execution_count": null,
   "metadata": {},
   "outputs": [],
   "source": []
  },
  {
   "cell_type": "code",
   "execution_count": null,
   "metadata": {},
   "outputs": [],
   "source": [
    "# Now we will learn about scatter plot .it show intersections between x and y in  dotted form\n"
   ]
  },
  {
   "cell_type": "code",
   "execution_count": null,
   "metadata": {},
   "outputs": [],
   "source": [
    "x=np.arange(10,101,10)\n",
    "x"
   ]
  },
  {
   "cell_type": "code",
   "execution_count": null,
   "metadata": {},
   "outputs": [],
   "source": [
    "a=(8,1,7,4,3,2,6,9,5,10)\n",
    "plt.scatter(x,a) # we use scatter for scatter ploting \n",
    "plt.title(\"Stock tendency\")\n",
    "plt.xlabel('This is x-axis')\n",
    "plt.ylabel('This is y-axix')\n",
    "plt.grid()\n",
    "plt.show()"
   ]
  },
  {
   "cell_type": "code",
   "execution_count": null,
   "metadata": {},
   "outputs": [],
   "source": [
    "# we can also change the symbol from dot to star \n",
    "plt.scatter(x,a,marker=\"*\",c='r',s=100) # s is use for size of marker representator\n",
    "plt.grid()\n",
    "\n"
   ]
  },
  {
   "cell_type": "code",
   "execution_count": null,
   "metadata": {},
   "outputs": [],
   "source": []
  },
  {
   "cell_type": "code",
   "execution_count": null,
   "metadata": {},
   "outputs": [],
   "source": [
    "# adding two scatter plot into one graph\n",
    "\n",
    "x=np.arange(10,101,10)\n",
    "a=[8,4,1,6,8,9,3,5,2,10]\n",
    "b=[5,1,3,2,6,9,10,7,4,8]\n",
    "plt.scatter(x,a,marker='.',c='r',s=100)\n",
    "plt.scatter(x,b,marker='*',c='y',s=100)\n"
   ]
  },
  {
   "cell_type": "code",
   "execution_count": null,
   "metadata": {},
   "outputs": [],
   "source": []
  },
  {
   "cell_type": "code",
   "execution_count": null,
   "metadata": {},
   "outputs": [],
   "source": [
    "#adding sub-plot into same graph\n",
    "plt.subplot(2,1,1)\n",
    "plt.scatter(x,a,marker='.',c='r',s=100)\n",
    "plt.subplot(2,1,2)\n",
    "plt.scatter(x,b,marker='*',c='y',s=100)\n"
   ]
  },
  {
   "cell_type": "code",
   "execution_count": null,
   "metadata": {},
   "outputs": [],
   "source": []
  },
  {
   "cell_type": "code",
   "execution_count": null,
   "metadata": {},
   "outputs": [],
   "source": [
    "#A histogram is a graph showing frequency distributions. It is a graph showing the number of observations within \n",
    "# each given interval.\n",
    "\n",
    "'''Syntax: matplotlib.pyplot.hist(x, bins=None, range=None, density=False, weights=None, cumulative=False, bottom=None,\n",
    "histtype=’bar’, align=’mid’, orientation=’vertical’, rwidth=None, log=False, color=None, label=None,\n",
    "stacked=False, \\*, data=None, \\*\\*kwargs)'''\n"
   ]
  },
  {
   "cell_type": "code",
   "execution_count": null,
   "metadata": {},
   "outputs": [],
   "source": [
    "x=np.random.randint(1,11,10)\n",
    "x"
   ]
  },
  {
   "cell_type": "code",
   "execution_count": null,
   "metadata": {},
   "outputs": [],
   "source": [
    "plt.hist(x,color='r',bins=10)\n",
    "plt.show()"
   ]
  },
  {
   "cell_type": "code",
   "execution_count": null,
   "metadata": {},
   "outputs": [],
   "source": [
    "import pandas as pd\n",
    "iris=pd.read_csv('Iris.csv')\n",
    "iris.head()"
   ]
  },
  {
   "cell_type": "code",
   "execution_count": null,
   "metadata": {},
   "outputs": [],
   "source": [
    "plt.hist(iris['SepalLengthCm'],bins=50,color='r')\n",
    "plt.show()"
   ]
  },
  {
   "cell_type": "code",
   "execution_count": null,
   "metadata": {},
   "outputs": [],
   "source": []
  },
  {
   "cell_type": "code",
   "execution_count": null,
   "metadata": {},
   "outputs": [],
   "source": [
    "'''A boxplot is a standardized way of displaying the distribution of data based on a five number summary \n",
    "(“minimum”, first quartile [Q1], median, third quartile [Q3] and “maximum”). \n",
    "It can tell you about your outliers and what their values are.\n",
    "it based on 0,25,50,75,100'''\n",
    "\n"
   ]
  },
  {
   "cell_type": "code",
   "execution_count": null,
   "metadata": {},
   "outputs": [],
   "source": [
    "one=np.random.randint(1,11,10)\n",
    "two=np.random.randint(1,11,10)\n",
    "three=np.random.randint(1,11,10)\n",
    "data=list([one,two,three])\n",
    "four=[9, 10, 12, 14, 15, 23, 42,50]"
   ]
  },
  {
   "cell_type": "code",
   "execution_count": null,
   "metadata": {},
   "outputs": [],
   "source": [
    "plt.boxplot(four)\n",
    "plt.show()\n"
   ]
  },
  {
   "cell_type": "code",
   "execution_count": null,
   "metadata": {},
   "outputs": [],
   "source": [
    "plt.violinplot(four)\n",
    "plt.show()"
   ]
  },
  {
   "cell_type": "code",
   "execution_count": null,
   "metadata": {},
   "outputs": [],
   "source": []
  },
  {
   "cell_type": "code",
   "execution_count": null,
   "metadata": {},
   "outputs": [],
   "source": [
    "#we will learn about pie-chart.it is very useful in visualization of data set.\n",
    "'''A pie chart (or a circle chart) is a circular statistical graphic, \n",
    "which is divided into slices to illustrate numerical proportion. '''\n",
    "\n",
    "#Syntax: matplotlib.pyplot.pie(data, explode=None, labels=None, colors=None, autopct=None, shadow=False)\n"
   ]
  },
  {
   "cell_type": "code",
   "execution_count": 152,
   "metadata": {},
   "outputs": [
    {
     "data": {
      "image/png": "[encoded data removed]",
      "text/plain": [
       "<Figure size 640x480 with 1 Axes>"
      ]
     },
     "metadata": {},
     "output_type": "display_data"
    }
   ],
   "source": [
    "fruit=['apple','banana','pineapple','orange','guava']\n",
    "quanity=[67,56,100,29,45]\n",
    "plt.pie(quanity,labels=fruit,shadow=False)\n",
    "plt.title('Fruit weightage')\n",
    "plt.show()"
   ]
  },
  {
   "cell_type": "code",
   "execution_count": 153,
   "metadata": {},
   "outputs": [],
   "source": [
    "# for adding percentage ,we can use autopct.\n"
   ]
  },
  {
   "cell_type": "code",
   "execution_count": 156,
   "metadata": {},
   "outputs": [
    {
     "data": {
      "image/png": "[encoded data removed]",
      "text/plain": [
       "<Figure size 640x480 with 1 Axes>"
      ]
     },
     "metadata": {},
     "output_type": "display_data"
    }
   ],
   "source": [
    "plt.pie(quanity,labels=fruit,autopct='%0.1f%%',colors=['yellow','green','blue','black','red']) # 0.1 show that we need decimal at how many places\n",
    "plt.show()"
   ]
  },
  {
   "cell_type": "code",
   "execution_count": null,
   "metadata": {},
   "outputs": [],
   "source": []
  },
  {
   "cell_type": "code",
   "execution_count": 162,
   "metadata": {},
   "outputs": [
    {
     "data": {
      "image/png": "[encoded data removed]",
      "text/plain": [
       "<Figure size 640x480 with 1 Axes>"
      ]
     },
     "metadata": {},
     "output_type": "display_data"
    }
   ],
   "source": [
    "# we will learn about doughnut-chart.there is no differ from pie-chart ,there is only a whole present in this graph thatit\n",
    "plt.pie(quanity,labels=fruit,radius=0.7,autopct='%0.1f%%')\n",
    "plt.pie([1],colors='w',radius=0.2)\n",
    "plt.show()"
   ]
  },
  {
   "cell_type": "code",
   "execution_count": null,
   "metadata": {},
   "outputs": [],
   "source": []
  },
  {
   "cell_type": "code",
   "execution_count": null,
   "metadata": {},
   "outputs": [],
   "source": []
  }
 ],
 "metadata": {
  "kernelspec": {
   "display_name": "Python 3.8.10 64-bit",
   "language": "python",
   "name": "python3"
  },
  "language_info": {
   "codemirror_mode": {
    "name": "ipython",
    "version": 3
   },
   "file_extension": ".py",
   "mimetype": "text/x-python",
   "name": "python",
   "nbconvert_exporter": "python",
   "pygments_lexer": "ipython3",
   "version": "3.8.10"
  },
  "orig_nbformat": 4,
  "vscode": {
   "interpreter": {
    "hash": "916dbcbb3f70747c44a77c7bcd40155683ae19c65e1c03b4aa3499c5328201f1"
   }
  }
 },
 "nbformat": 4,
 "nbformat_minor": 2
}
